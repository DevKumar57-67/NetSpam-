{
  "metadata": {
    "kernelspec": {
      "language": "python",
      "display_name": "Python 3",
      "name": "python3"
    },
    "language_info": {
      "name": "python",
      "version": "3.10.13",
      "mimetype": "text/x-python",
      "codemirror_mode": {
        "name": "ipython",
        "version": 3
      },
      "pygments_lexer": "ipython3",
      "nbconvert_exporter": "python",
      "file_extension": ".py"
    },
    "kaggle": {
      "accelerator": "gpu",
      "dataSources": [
        {
          "sourceId": 2355807,
          "sourceType": "datasetVersion",
          "datasetId": 1422521
        },
        {
          "sourceId": 8228634,
          "sourceType": "datasetVersion",
          "datasetId": 4879502
        },
        {
          "sourceId": 2622,
          "sourceType": "modelInstanceVersion",
          "isSourceIdPinned": true,
          "modelInstanceId": 1899
        },
        {
          "sourceId": 6051,
          "sourceType": "modelInstanceVersion",
          "isSourceIdPinned": true,
          "modelInstanceId": 4672
        }
      ],
      "dockerImageVersionId": 30733,
      "isInternetEnabled": true,
      "language": "python",
      "sourceType": "notebook",
      "isGpuEnabled": true
    },
    "colab": {
      "name": "Spam detection bert",
      "provenance": [],
      "include_colab_link": true
    }
  },
  "nbformat_minor": 0,
  "nbformat": 4,
  "cells": [
    {
      "cell_type": "markdown",
      "metadata": {
        "id": "view-in-github",
        "colab_type": "text"
      },
      "source": [
        "<a href=\"https://colab.research.google.com/github/DevKumar57-67/NetSpam-/blob/main/Spam_detection_bert.ipynb\" target=\"_parent\"><img src=\"https://colab.research.google.com/assets/colab-badge.svg\" alt=\"Open In Colab\"/></a>"
      ]
    },
    {
      "cell_type": "markdown",
      "source": [
        "                   NETSPAM"
      ],
      "metadata": {
        "id": "XGy7Ad3cY07W"
      }
    },
    {
      "cell_type": "code",
      "source": [
        "# NETSPAM:\n",
        "\n",
        "# An AI Model which uses Natural language processing techniques to predict wether your emails are spam or not\n",
        "# We will be using Bert model to get the tokenizers and then using Bart Model from facebook to build the model"
      ],
      "metadata": {
        "id": "Wt84IpTDZJmE"
      },
      "execution_count": 2,
      "outputs": []
    },
    {
      "source": [
        "\n",
        "# IMPORTANT: RUN THIS CELL IN ORDER TO IMPORT YOUR KAGGLE DATA SOURCES\n",
        "# TO THE CORRECT LOCATION (/kaggle/input) IN YOUR NOTEBOOK,\n",
        "# THEN FEEL FREE TO DELETE THIS CELL.\n",
        "# NOTE: THIS NOTEBOOK ENVIRONMENT DIFFERS FROM KAGGLE'S PYTHON\n",
        "# ENVIRONMENT SO THERE MAY BE MISSING LIBRARIES USED BY YOUR\n",
        "# NOTEBOOK.\n",
        "\n",
        "import os\n",
        "import sys\n",
        "from tempfile import NamedTemporaryFile\n",
        "from urllib.request import urlopen\n",
        "from urllib.parse import unquote, urlparse\n",
        "from urllib.error import HTTPError\n",
        "from zipfile import ZipFile\n",
        "import tarfile\n",
        "import shutil\n",
        "\n",
        "CHUNK_SIZE = 40960\n",
        "DATA_SOURCE_MAPPING = 'spam-email:https%3A%2F%2Fstorage.googleapis.com%2Fkaggle-data-sets%2F1422521%2F2355807%2Fbundle%2Farchive.zip%3FX-Goog-Algorithm%3DGOOG4-RSA-SHA256%26X-Goog-Credential%3Dgcp-kaggle-com%2540kaggle-161607.iam.gserviceaccount.com%252F20240620%252Fauto%252Fstorage%252Fgoog4_request%26X-Goog-Date%3D20240620T205303Z%26X-Goog-Expires%3D259200%26X-Goog-SignedHeaders%3Dhost%26X-Goog-Signature%3D1bc8e9b03e21f153310b0e6b6839e53fb65f22867aee372c301db689209be6fe780fb08c40e1061e0c1a211967b28f8b3a9f352966341f23a522cbff4ce5e7224f91ac57cdfdd1e97715a1c438867ed0b1c37dd29b2de7589907e163bc424c90e297edf8aadbcda75ccdbff9d7666e7719d66c333e6713c5cc12f8ed18be0c484a0a7e770d88adc07f8c8d7e826fe4941b10677a7438aab825ef24cc481214d6cd1587baa6c40d031f014a28cfe7e80d13e1cd8e537fe44fa00fdc898f1af406ffcb1f5e6680e906ab20a9a275a50903455fa195819c5a2fd351662eb1d3c75b4b287075a5c6e3850046b8b190ab0b53578964cf2807e981feedf368d7bd8b8e,scam-detection-fake-news-labelled-dataset:https%3A%2F%2Fstorage.googleapis.com%2Fkaggle-data-sets%2F4879502%2F8228634%2Fbundle%2Farchive.zip%3FX-Goog-Algorithm%3DGOOG4-RSA-SHA256%26X-Goog-Credential%3Dgcp-kaggle-com%2540kaggle-161607.iam.gserviceaccount.com%252F20240620%252Fauto%252Fstorage%252Fgoog4_request%26X-Goog-Date%3D20240620T205303Z%26X-Goog-Expires%3D259200%26X-Goog-SignedHeaders%3Dhost%26X-Goog-Signature%3D48dbf1767ff2711bec01690263826a7756d91ff3926852dda8eb93cd138bd86e53d356cf261386d871011227d2dc5214aba2f8ef73af9b45e4dea38fd74af1e066c7e88d64a6dd977e2040040e690dae10b223d4fc9c7d22c2b341ffb2c2bbcfbc09ef2999730dfe96a0d9ebdb47198fd0cb412bac11edb396a50b192efa2d011957a71b49b4f95d5b3202e419c63ac09e1f3a652cfd7db97cd6cf301beec2f36c046dac9f3050c7ccea3caadf83b30f20791f8dd6bfe655c7848552718a42968ffb2074627894fb281f35923b0d8b72639e908af4f6aff0827369d8e193aa070a50acc5a05bdd7cb97c7974ddc642fda1fadd852d392f1058d6c4d76a69df1b,bert/tensorflow2/bert-en-uncased-l-10-h-128-a-2/2:https%3A%2F%2Fstorage.googleapis.com%2Fkaggle-models-data%2F1899%2F2622%2Fbundle%2Farchive.tar.gz%3FX-Goog-Algorithm%3DGOOG4-RSA-SHA256%26X-Goog-Credential%3Dgcp-kaggle-com%2540kaggle-161607.iam.gserviceaccount.com%252F20240620%252Fauto%252Fstorage%252Fgoog4_request%26X-Goog-Date%3D20240620T205304Z%26X-Goog-Expires%3D259200%26X-Goog-SignedHeaders%3Dhost%26X-Goog-Signature%3D6d94232b6c0d8ced0def012dad66533349e670f9f43357ea2483b4c990905d67bfb607a4a528a1858bfb6166e14c49ade8eae2e33c5d64a0a04a26e502459e30a49577c7dfecff905bb2a67a1be2b5aa7f7ac63e675929c2d85da80c8abab4f976d7580ab7f888be4258b0d5f5dcd3a51e39ee681bf0f04d72326ce52eea9ed18251adffc2997f913653bb719c8325005671ce114b0f9f9972405b30356ade463febb80ea2bfed629f636b09271ce7ab15a16c25790d2f6a61bddca1844a3ddc2eaddeb8f41b4d9332d18768f45c69692479111131105930f3d27975ee464a203e8d6920cdc3e7f93dbfc92efe0a584bdd6c29b54d7391af209def677e1f56c7,bart/keras/bart_base_en/2:https%3A%2F%2Fstorage.googleapis.com%2Fkaggle-models-data%2F4672%2F6051%2Fbundle%2Farchive.tar.gz%3FX-Goog-Algorithm%3DGOOG4-RSA-SHA256%26X-Goog-Credential%3Dgcp-kaggle-com%2540kaggle-161607.iam.gserviceaccount.com%252F20240620%252Fauto%252Fstorage%252Fgoog4_request%26X-Goog-Date%3D20240620T205304Z%26X-Goog-Expires%3D259200%26X-Goog-SignedHeaders%3Dhost%26X-Goog-Signature%3D444d70dd6c6d102ee3fb5bf3809798927df5375c9ca66f4e8f547006cc9ecc92b0a99e32c2ad0442d6146b01d39e28578a1f2aa0ac1ea3b72cb00cbfecf610d3843ef3b5d739477cd586f37ec5ca9cb4cc93cc3cd4e9fec93c0b78825c15d2ea96458a6a2b83e554046b7d9f3d847f059c4629f5fae92fe52d009b3d5a8e02e6831987a1b2b20a08b3d2751fbf40ba5309e861ea634263b7443070b44adca1609c0c315c212548539bea158dc636dd5923088abd1a7e81c96d159e4f40801bdc0800ecb30e7241623449a858560351a61e06975b702cfccf4567caaa18bcdd4a1d560a004afb82851a0fc768b87330e3ed9f943fc31de39537a4c14ae3884c51'\n",
        "\n",
        "KAGGLE_INPUT_PATH='/kaggle/input'\n",
        "KAGGLE_WORKING_PATH='/kaggle/working'\n",
        "KAGGLE_SYMLINK='kaggle'\n",
        "\n",
        "!umount /kaggle/input/ 2> /dev/null\n",
        "shutil.rmtree('/kaggle/input', ignore_errors=True)\n",
        "os.makedirs(KAGGLE_INPUT_PATH, 0o777, exist_ok=True)\n",
        "os.makedirs(KAGGLE_WORKING_PATH, 0o777, exist_ok=True)\n",
        "\n",
        "try:\n",
        "  os.symlink(KAGGLE_INPUT_PATH, os.path.join(\"..\", 'input'), target_is_directory=True)\n",
        "except FileExistsError:\n",
        "  pass\n",
        "try:\n",
        "  os.symlink(KAGGLE_WORKING_PATH, os.path.join(\"..\", 'working'), target_is_directory=True)\n",
        "except FileExistsError:\n",
        "  pass\n",
        "\n",
        "for data_source_mapping in DATA_SOURCE_MAPPING.split(','):\n",
        "    directory, download_url_encoded = data_source_mapping.split(':')\n",
        "    download_url = unquote(download_url_encoded)\n",
        "    filename = urlparse(download_url).path\n",
        "    destination_path = os.path.join(KAGGLE_INPUT_PATH, directory)\n",
        "    try:\n",
        "        with urlopen(download_url) as fileres, NamedTemporaryFile() as tfile:\n",
        "            total_length = fileres.headers['content-length']\n",
        "            print(f'Downloading {directory}, {total_length} bytes compressed')\n",
        "            dl = 0\n",
        "            data = fileres.read(CHUNK_SIZE)\n",
        "            while len(data) > 0:\n",
        "                dl += len(data)\n",
        "                tfile.write(data)\n",
        "                done = int(50 * dl / int(total_length))\n",
        "                sys.stdout.write(f\"\\r[{'=' * done}{' ' * (50-done)}] {dl} bytes downloaded\")\n",
        "                sys.stdout.flush()\n",
        "                data = fileres.read(CHUNK_SIZE)\n",
        "            if filename.endswith('.zip'):\n",
        "              with ZipFile(tfile) as zfile:\n",
        "                zfile.extractall(destination_path)\n",
        "            else:\n",
        "              with tarfile.open(tfile.name) as tarfile:\n",
        "                tarfile.extractall(destination_path)\n",
        "            print(f'\\nDownloaded and uncompressed: {directory}')\n",
        "    except HTTPError as e:\n",
        "        print(f'Failed to load (likely expired) {download_url} to path {destination_path}')\n",
        "        continue\n",
        "    except OSError as e:\n",
        "        print(f'Failed to load {download_url} to path {destination_path}')\n",
        "        continue\n",
        "\n",
        "print('Data source import complete.')"
      ],
      "metadata": {
        "id": "BkxQkZkgXrWg"
      },
      "cell_type": "code",
      "outputs": [],
      "execution_count": null
    },
    {
      "cell_type": "code",
      "source": [
        "# This Python 3 environment comes with many helpful analytics libraries installed\n",
        "# It is defined by the kaggle/python Docker image: https://github.com/kaggle/docker-python\n",
        "# For example, here's several helpful packages to load\n",
        "\n",
        "import numpy as np # linear algebra\n",
        "import pandas as pd # data processing, CSV file I/O (e.g. pd.read_csv)\n",
        "\n",
        "# Input data files are available in the read-only \"../input/\" directory\n",
        "# For example, running this (by clicking run or pressing Shift+Enter) will list all files under the input directory\n",
        "\n",
        "import os\n",
        "for dirname, _, filenames in os.walk('/kaggle/input'):\n",
        "    for filename in filenames:\n",
        "        print(os.path.join(dirname, filename))\n",
        "\n",
        "# You can write up to 20GB to the current directory (/kaggle/working/) that gets preserved as output when you create a version using \"Save & Run All\"\n",
        "# You can also write temporary files to /kaggle/temp/, but they won't be saved outside of the current session"
      ],
      "metadata": {
        "_uuid": "8f2839f25d086af736a60e9eeb907d3b93b6e0e5",
        "_cell_guid": "b1076dfc-b9ad-4769-8c92-a6c4dae69d19",
        "execution": {
          "iopub.status.busy": "2024-06-20T20:52:16.272271Z",
          "iopub.execute_input": "2024-06-20T20:52:16.273236Z",
          "iopub.status.idle": "2024-06-20T20:52:16.288428Z",
          "shell.execute_reply.started": "2024-06-20T20:52:16.273201Z",
          "shell.execute_reply": "2024-06-20T20:52:16.287545Z"
        },
        "trusted": true,
        "id": "XhLZRUlaXrWm",
        "outputId": "b601386b-0200-4aed-ba9c-bb88c08f2b7d"
      },
      "execution_count": null,
      "outputs": [
        {
          "name": "stdout",
          "text": "/kaggle/input/bert/tensorflow2/bert-en-uncased-l-10-h-128-a-2/2/saved_model.pb\n/kaggle/input/bert/tensorflow2/bert-en-uncased-l-10-h-128-a-2/2/keras_metadata.pb\n/kaggle/input/bert/tensorflow2/bert-en-uncased-l-10-h-128-a-2/2/assets/vocab.txt\n/kaggle/input/bert/tensorflow2/bert-en-uncased-l-10-h-128-a-2/2/variables/variables.index\n/kaggle/input/bert/tensorflow2/bert-en-uncased-l-10-h-128-a-2/2/variables/variables.data-00000-of-00001\n/kaggle/input/spam-email/spam.csv\n/kaggle/input/scam-detection-fake-news-labelled-dataset/train.csv\n/kaggle/input/bart/keras/bart_base_en/2/config.json\n/kaggle/input/bart/keras/bart_base_en/2/tokenizer.json\n/kaggle/input/bart/keras/bart_base_en/2/metadata.json\n/kaggle/input/bart/keras/bart_base_en/2/model.weights.h5\n/kaggle/input/bart/keras/bart_base_en/2/assets/tokenizer/merges.txt\n/kaggle/input/bart/keras/bart_base_en/2/assets/tokenizer/vocabulary.json\n",
          "output_type": "stream"
        }
      ]
    },
    {
      "cell_type": "code",
      "source": [
        "emails=pd.read_csv(\"/kaggle/input/spam-email/spam.csv\")\n"
      ],
      "metadata": {
        "execution": {
          "iopub.status.busy": "2024-06-20T20:52:16.520264Z",
          "iopub.execute_input": "2024-06-20T20:52:16.520553Z",
          "iopub.status.idle": "2024-06-20T20:52:16.536206Z",
          "shell.execute_reply.started": "2024-06-20T20:52:16.520527Z",
          "shell.execute_reply": "2024-06-20T20:52:16.535487Z"
        },
        "trusted": true,
        "id": "axFY09QvXrWr"
      },
      "execution_count": null,
      "outputs": []
    },
    {
      "cell_type": "code",
      "source": [
        "#Data Analytics"
      ],
      "metadata": {
        "execution": {
          "iopub.status.busy": "2024-06-20T20:52:16.77029Z",
          "iopub.execute_input": "2024-06-20T20:52:16.770595Z",
          "iopub.status.idle": "2024-06-20T20:52:16.774728Z",
          "shell.execute_reply.started": "2024-06-20T20:52:16.770568Z",
          "shell.execute_reply": "2024-06-20T20:52:16.773686Z"
        },
        "trusted": true,
        "id": "eSS4OXkSXrWu"
      },
      "execution_count": null,
      "outputs": []
    },
    {
      "cell_type": "code",
      "source": [
        "emails.head(5)"
      ],
      "metadata": {
        "execution": {
          "iopub.status.busy": "2024-06-20T20:52:17.060449Z",
          "iopub.execute_input": "2024-06-20T20:52:17.060784Z",
          "iopub.status.idle": "2024-06-20T20:52:17.070564Z",
          "shell.execute_reply.started": "2024-06-20T20:52:17.060756Z",
          "shell.execute_reply": "2024-06-20T20:52:17.069598Z"
        },
        "trusted": true,
        "id": "E5mX1lW2XrWx",
        "outputId": "1e3d41ed-13f6-4c6f-d0c4-4de7259892fc"
      },
      "execution_count": null,
      "outputs": [
        {
          "execution_count": 483,
          "output_type": "execute_result",
          "data": {
            "text/plain": "  Category                                            Message\n0      ham  Go until jurong point, crazy.. Available only ...\n1      ham                      Ok lar... Joking wif u oni...\n2     spam  Free entry in 2 a wkly comp to win FA Cup fina...\n3      ham  U dun say so early hor... U c already then say...\n4      ham  Nah I don't think he goes to usf, he lives aro...",
            "text/html": "<div>\n<style scoped>\n    .dataframe tbody tr th:only-of-type {\n        vertical-align: middle;\n    }\n\n    .dataframe tbody tr th {\n        vertical-align: top;\n    }\n\n    .dataframe thead th {\n        text-align: right;\n    }\n</style>\n<table border=\"1\" class=\"dataframe\">\n  <thead>\n    <tr style=\"text-align: right;\">\n      <th></th>\n      <th>Category</th>\n      <th>Message</th>\n    </tr>\n  </thead>\n  <tbody>\n    <tr>\n      <th>0</th>\n      <td>ham</td>\n      <td>Go until jurong point, crazy.. Available only ...</td>\n    </tr>\n    <tr>\n      <th>1</th>\n      <td>ham</td>\n      <td>Ok lar... Joking wif u oni...</td>\n    </tr>\n    <tr>\n      <th>2</th>\n      <td>spam</td>\n      <td>Free entry in 2 a wkly comp to win FA Cup fina...</td>\n    </tr>\n    <tr>\n      <th>3</th>\n      <td>ham</td>\n      <td>U dun say so early hor... U c already then say...</td>\n    </tr>\n    <tr>\n      <th>4</th>\n      <td>ham</td>\n      <td>Nah I don't think he goes to usf, he lives aro...</td>\n    </tr>\n  </tbody>\n</table>\n</div>"
          },
          "metadata": {}
        }
      ]
    },
    {
      "cell_type": "code",
      "source": [
        "emails.tail(5)"
      ],
      "metadata": {
        "execution": {
          "iopub.status.busy": "2024-06-20T20:52:17.620115Z",
          "iopub.execute_input": "2024-06-20T20:52:17.620402Z",
          "iopub.status.idle": "2024-06-20T20:52:17.62959Z",
          "shell.execute_reply.started": "2024-06-20T20:52:17.620378Z",
          "shell.execute_reply": "2024-06-20T20:52:17.628733Z"
        },
        "trusted": true,
        "id": "6OfaW6V2XrW1",
        "outputId": "879d1f56-1c1b-4a83-bee3-94fbf36201f1"
      },
      "execution_count": null,
      "outputs": [
        {
          "execution_count": 484,
          "output_type": "execute_result",
          "data": {
            "text/plain": "     Category                                            Message\n5567     spam  This is the 2nd time we have tried 2 contact u...\n5568      ham               Will ü b going to esplanade fr home?\n5569      ham  Pity, * was in mood for that. So...any other s...\n5570      ham  The guy did some bitching but I acted like i'd...\n5571      ham                         Rofl. Its true to its name",
            "text/html": "<div>\n<style scoped>\n    .dataframe tbody tr th:only-of-type {\n        vertical-align: middle;\n    }\n\n    .dataframe tbody tr th {\n        vertical-align: top;\n    }\n\n    .dataframe thead th {\n        text-align: right;\n    }\n</style>\n<table border=\"1\" class=\"dataframe\">\n  <thead>\n    <tr style=\"text-align: right;\">\n      <th></th>\n      <th>Category</th>\n      <th>Message</th>\n    </tr>\n  </thead>\n  <tbody>\n    <tr>\n      <th>5567</th>\n      <td>spam</td>\n      <td>This is the 2nd time we have tried 2 contact u...</td>\n    </tr>\n    <tr>\n      <th>5568</th>\n      <td>ham</td>\n      <td>Will ü b going to esplanade fr home?</td>\n    </tr>\n    <tr>\n      <th>5569</th>\n      <td>ham</td>\n      <td>Pity, * was in mood for that. So...any other s...</td>\n    </tr>\n    <tr>\n      <th>5570</th>\n      <td>ham</td>\n      <td>The guy did some bitching but I acted like i'd...</td>\n    </tr>\n    <tr>\n      <th>5571</th>\n      <td>ham</td>\n      <td>Rofl. Its true to its name</td>\n    </tr>\n  </tbody>\n</table>\n</div>"
          },
          "metadata": {}
        }
      ]
    },
    {
      "cell_type": "code",
      "source": [
        "emails.shape"
      ],
      "metadata": {
        "execution": {
          "iopub.status.busy": "2024-06-20T20:52:18.195348Z",
          "iopub.execute_input": "2024-06-20T20:52:18.195715Z",
          "iopub.status.idle": "2024-06-20T20:52:18.201552Z",
          "shell.execute_reply.started": "2024-06-20T20:52:18.195683Z",
          "shell.execute_reply": "2024-06-20T20:52:18.200637Z"
        },
        "trusted": true,
        "id": "CzDkkAY3XrW5",
        "outputId": "d61d3db1-c904-43d9-9598-a68d248a8028"
      },
      "execution_count": null,
      "outputs": [
        {
          "execution_count": 485,
          "output_type": "execute_result",
          "data": {
            "text/plain": "(5572, 2)"
          },
          "metadata": {}
        }
      ]
    },
    {
      "cell_type": "code",
      "source": [
        "emails. info"
      ],
      "metadata": {
        "execution": {
          "iopub.status.busy": "2024-06-20T20:52:18.480174Z",
          "iopub.execute_input": "2024-06-20T20:52:18.480467Z",
          "iopub.status.idle": "2024-06-20T20:52:18.488558Z",
          "shell.execute_reply.started": "2024-06-20T20:52:18.480441Z",
          "shell.execute_reply": "2024-06-20T20:52:18.487764Z"
        },
        "trusted": true,
        "id": "RZiTOwzqXrW9",
        "outputId": "7a9dd80e-13e9-48a4-b507-cb1f2c5cd6d0"
      },
      "execution_count": null,
      "outputs": [
        {
          "execution_count": 486,
          "output_type": "execute_result",
          "data": {
            "text/plain": "<bound method DataFrame.info of      Category                                            Message\n0         ham  Go until jurong point, crazy.. Available only ...\n1         ham                      Ok lar... Joking wif u oni...\n2        spam  Free entry in 2 a wkly comp to win FA Cup fina...\n3         ham  U dun say so early hor... U c already then say...\n4         ham  Nah I don't think he goes to usf, he lives aro...\n...       ...                                                ...\n5567     spam  This is the 2nd time we have tried 2 contact u...\n5568      ham               Will ü b going to esplanade fr home?\n5569      ham  Pity, * was in mood for that. So...any other s...\n5570      ham  The guy did some bitching but I acted like i'd...\n5571      ham                         Rofl. Its true to its name\n\n[5572 rows x 2 columns]>"
          },
          "metadata": {}
        }
      ]
    },
    {
      "cell_type": "code",
      "source": [
        "emails.describe()"
      ],
      "metadata": {
        "execution": {
          "iopub.status.busy": "2024-06-20T20:52:18.760274Z",
          "iopub.execute_input": "2024-06-20T20:52:18.761027Z",
          "iopub.status.idle": "2024-06-20T20:52:18.77898Z",
          "shell.execute_reply.started": "2024-06-20T20:52:18.760999Z",
          "shell.execute_reply": "2024-06-20T20:52:18.777994Z"
        },
        "trusted": true,
        "id": "55ImOmmuXrXA",
        "outputId": "8d83b546-6188-4498-de23-cdcb4b8b2f44"
      },
      "execution_count": null,
      "outputs": [
        {
          "execution_count": 487,
          "output_type": "execute_result",
          "data": {
            "text/plain": "       Category                 Message\ncount      5572                    5572\nunique        2                    5157\ntop         ham  Sorry, I'll call later\nfreq       4825                      30",
            "text/html": "<div>\n<style scoped>\n    .dataframe tbody tr th:only-of-type {\n        vertical-align: middle;\n    }\n\n    .dataframe tbody tr th {\n        vertical-align: top;\n    }\n\n    .dataframe thead th {\n        text-align: right;\n    }\n</style>\n<table border=\"1\" class=\"dataframe\">\n  <thead>\n    <tr style=\"text-align: right;\">\n      <th></th>\n      <th>Category</th>\n      <th>Message</th>\n    </tr>\n  </thead>\n  <tbody>\n    <tr>\n      <th>count</th>\n      <td>5572</td>\n      <td>5572</td>\n    </tr>\n    <tr>\n      <th>unique</th>\n      <td>2</td>\n      <td>5157</td>\n    </tr>\n    <tr>\n      <th>top</th>\n      <td>ham</td>\n      <td>Sorry, I'll call later</td>\n    </tr>\n    <tr>\n      <th>freq</th>\n      <td>4825</td>\n      <td>30</td>\n    </tr>\n  </tbody>\n</table>\n</div>"
          },
          "metadata": {}
        }
      ]
    },
    {
      "cell_type": "code",
      "source": [
        "emails.sample"
      ],
      "metadata": {
        "execution": {
          "iopub.status.busy": "2024-06-20T20:52:19.015498Z",
          "iopub.execute_input": "2024-06-20T20:52:19.015827Z",
          "iopub.status.idle": "2024-06-20T20:52:19.024178Z",
          "shell.execute_reply.started": "2024-06-20T20:52:19.015797Z",
          "shell.execute_reply": "2024-06-20T20:52:19.023308Z"
        },
        "trusted": true,
        "id": "mX5XPNCRXrXE",
        "outputId": "816db437-36d6-4890-d129-59b98dcc2b74"
      },
      "execution_count": null,
      "outputs": [
        {
          "execution_count": 488,
          "output_type": "execute_result",
          "data": {
            "text/plain": "<bound method NDFrame.sample of      Category                                            Message\n0         ham  Go until jurong point, crazy.. Available only ...\n1         ham                      Ok lar... Joking wif u oni...\n2        spam  Free entry in 2 a wkly comp to win FA Cup fina...\n3         ham  U dun say so early hor... U c already then say...\n4         ham  Nah I don't think he goes to usf, he lives aro...\n...       ...                                                ...\n5567     spam  This is the 2nd time we have tried 2 contact u...\n5568      ham               Will ü b going to esplanade fr home?\n5569      ham  Pity, * was in mood for that. So...any other s...\n5570      ham  The guy did some bitching but I acted like i'd...\n5571      ham                         Rofl. Its true to its name\n\n[5572 rows x 2 columns]>"
          },
          "metadata": {}
        }
      ]
    },
    {
      "cell_type": "code",
      "source": [
        "emails.isnull().sum()"
      ],
      "metadata": {
        "execution": {
          "iopub.status.busy": "2024-06-20T20:52:19.275076Z",
          "iopub.execute_input": "2024-06-20T20:52:19.275734Z",
          "iopub.status.idle": "2024-06-20T20:52:19.283811Z",
          "shell.execute_reply.started": "2024-06-20T20:52:19.275706Z",
          "shell.execute_reply": "2024-06-20T20:52:19.282852Z"
        },
        "trusted": true,
        "id": "n7AJUxIvXrXI",
        "outputId": "e8e30288-88e3-4242-e8b7-98fa333b0911"
      },
      "execution_count": null,
      "outputs": [
        {
          "execution_count": 489,
          "output_type": "execute_result",
          "data": {
            "text/plain": "Category    0\nMessage     0\ndtype: int64"
          },
          "metadata": {}
        }
      ]
    },
    {
      "cell_type": "code",
      "source": [
        "emails.isnull()"
      ],
      "metadata": {
        "execution": {
          "iopub.status.busy": "2024-06-20T20:52:19.565466Z",
          "iopub.execute_input": "2024-06-20T20:52:19.565755Z",
          "iopub.status.idle": "2024-06-20T20:52:19.577288Z",
          "shell.execute_reply.started": "2024-06-20T20:52:19.56573Z",
          "shell.execute_reply": "2024-06-20T20:52:19.57633Z"
        },
        "trusted": true,
        "id": "MYiy9tjWXrXL",
        "outputId": "afe45734-2f32-42c8-dd6d-96a8e74b38c4"
      },
      "execution_count": null,
      "outputs": [
        {
          "execution_count": 490,
          "output_type": "execute_result",
          "data": {
            "text/plain": "      Category  Message\n0        False    False\n1        False    False\n2        False    False\n3        False    False\n4        False    False\n...        ...      ...\n5567     False    False\n5568     False    False\n5569     False    False\n5570     False    False\n5571     False    False\n\n[5572 rows x 2 columns]",
            "text/html": "<div>\n<style scoped>\n    .dataframe tbody tr th:only-of-type {\n        vertical-align: middle;\n    }\n\n    .dataframe tbody tr th {\n        vertical-align: top;\n    }\n\n    .dataframe thead th {\n        text-align: right;\n    }\n</style>\n<table border=\"1\" class=\"dataframe\">\n  <thead>\n    <tr style=\"text-align: right;\">\n      <th></th>\n      <th>Category</th>\n      <th>Message</th>\n    </tr>\n  </thead>\n  <tbody>\n    <tr>\n      <th>0</th>\n      <td>False</td>\n      <td>False</td>\n    </tr>\n    <tr>\n      <th>1</th>\n      <td>False</td>\n      <td>False</td>\n    </tr>\n    <tr>\n      <th>2</th>\n      <td>False</td>\n      <td>False</td>\n    </tr>\n    <tr>\n      <th>3</th>\n      <td>False</td>\n      <td>False</td>\n    </tr>\n    <tr>\n      <th>4</th>\n      <td>False</td>\n      <td>False</td>\n    </tr>\n    <tr>\n      <th>...</th>\n      <td>...</td>\n      <td>...</td>\n    </tr>\n    <tr>\n      <th>5567</th>\n      <td>False</td>\n      <td>False</td>\n    </tr>\n    <tr>\n      <th>5568</th>\n      <td>False</td>\n      <td>False</td>\n    </tr>\n    <tr>\n      <th>5569</th>\n      <td>False</td>\n      <td>False</td>\n    </tr>\n    <tr>\n      <th>5570</th>\n      <td>False</td>\n      <td>False</td>\n    </tr>\n    <tr>\n      <th>5571</th>\n      <td>False</td>\n      <td>False</td>\n    </tr>\n  </tbody>\n</table>\n<p>5572 rows × 2 columns</p>\n</div>"
          },
          "metadata": {}
        }
      ]
    },
    {
      "cell_type": "code",
      "source": [
        "#Data Visualization\n",
        "\n",
        "import matplotlib.pyplot as plt\n",
        "import seaborn as sns\n",
        "import plotly as px"
      ],
      "metadata": {
        "execution": {
          "iopub.status.busy": "2024-06-20T20:52:19.8348Z",
          "iopub.execute_input": "2024-06-20T20:52:19.835488Z",
          "iopub.status.idle": "2024-06-20T20:52:19.839502Z",
          "shell.execute_reply.started": "2024-06-20T20:52:19.835462Z",
          "shell.execute_reply": "2024-06-20T20:52:19.838496Z"
        },
        "trusted": true,
        "id": "HtM_NDjDXrXO"
      },
      "execution_count": null,
      "outputs": []
    },
    {
      "cell_type": "code",
      "source": [
        "emails.groupby('Category').describe()"
      ],
      "metadata": {
        "execution": {
          "iopub.status.busy": "2024-06-20T20:52:20.115695Z",
          "iopub.execute_input": "2024-06-20T20:52:20.116499Z",
          "iopub.status.idle": "2024-06-20T20:52:20.13934Z",
          "shell.execute_reply.started": "2024-06-20T20:52:20.116467Z",
          "shell.execute_reply": "2024-06-20T20:52:20.138467Z"
        },
        "trusted": true,
        "id": "swRXs_jHXrXR",
        "outputId": "b44cc754-03c8-46ac-e1ef-94ca8f22c57e"
      },
      "execution_count": null,
      "outputs": [
        {
          "execution_count": 492,
          "output_type": "execute_result",
          "data": {
            "text/plain": "         Message                                                            \\\n           count unique                                                top   \nCategory                                                                     \nham         4825   4516                             Sorry, I'll call later   \nspam         747    641  Please call our customer service representativ...   \n\n               \n         freq  \nCategory       \nham        30  \nspam        4  ",
            "text/html": "<div>\n<style scoped>\n    .dataframe tbody tr th:only-of-type {\n        vertical-align: middle;\n    }\n\n    .dataframe tbody tr th {\n        vertical-align: top;\n    }\n\n    .dataframe thead tr th {\n        text-align: left;\n    }\n\n    .dataframe thead tr:last-of-type th {\n        text-align: right;\n    }\n</style>\n<table border=\"1\" class=\"dataframe\">\n  <thead>\n    <tr>\n      <th></th>\n      <th colspan=\"4\" halign=\"left\">Message</th>\n    </tr>\n    <tr>\n      <th></th>\n      <th>count</th>\n      <th>unique</th>\n      <th>top</th>\n      <th>freq</th>\n    </tr>\n    <tr>\n      <th>Category</th>\n      <th></th>\n      <th></th>\n      <th></th>\n      <th></th>\n    </tr>\n  </thead>\n  <tbody>\n    <tr>\n      <th>ham</th>\n      <td>4825</td>\n      <td>4516</td>\n      <td>Sorry, I'll call later</td>\n      <td>30</td>\n    </tr>\n    <tr>\n      <th>spam</th>\n      <td>747</td>\n      <td>641</td>\n      <td>Please call our customer service representativ...</td>\n      <td>4</td>\n    </tr>\n  </tbody>\n</table>\n</div>"
          },
          "metadata": {}
        }
      ]
    },
    {
      "cell_type": "code",
      "source": [
        "747/4835"
      ],
      "metadata": {
        "execution": {
          "iopub.status.busy": "2024-06-20T20:52:20.365186Z",
          "iopub.execute_input": "2024-06-20T20:52:20.365498Z",
          "iopub.status.idle": "2024-06-20T20:52:20.370973Z",
          "shell.execute_reply.started": "2024-06-20T20:52:20.365473Z",
          "shell.execute_reply": "2024-06-20T20:52:20.370102Z"
        },
        "trusted": true,
        "id": "VqgZZdPGXrXU",
        "outputId": "76fb6151-8bf2-4e25-dde0-ff4079b23a85"
      },
      "execution_count": null,
      "outputs": [
        {
          "execution_count": 493,
          "output_type": "execute_result",
          "data": {
            "text/plain": "0.15449844881075492"
          },
          "metadata": {}
        }
      ]
    },
    {
      "cell_type": "code",
      "source": [
        "emails['Category'].value_counts()"
      ],
      "metadata": {
        "execution": {
          "iopub.status.busy": "2024-06-20T20:52:20.615534Z",
          "iopub.execute_input": "2024-06-20T20:52:20.616106Z",
          "iopub.status.idle": "2024-06-20T20:52:20.624175Z",
          "shell.execute_reply.started": "2024-06-20T20:52:20.616078Z",
          "shell.execute_reply": "2024-06-20T20:52:20.623103Z"
        },
        "trusted": true,
        "id": "lv4PYv-_XrXX",
        "outputId": "faf965e3-8314-4feb-80b3-be2dea27c03e"
      },
      "execution_count": null,
      "outputs": [
        {
          "execution_count": 494,
          "output_type": "execute_result",
          "data": {
            "text/plain": "Category\nham     4825\nspam     747\nName: count, dtype: int64"
          },
          "metadata": {}
        }
      ]
    },
    {
      "cell_type": "code",
      "source": [
        "emails['Message'].value_counts()"
      ],
      "metadata": {
        "execution": {
          "iopub.status.busy": "2024-06-20T20:52:20.950197Z",
          "iopub.execute_input": "2024-06-20T20:52:20.950514Z",
          "iopub.status.idle": "2024-06-20T20:52:20.962286Z",
          "shell.execute_reply.started": "2024-06-20T20:52:20.950486Z",
          "shell.execute_reply": "2024-06-20T20:52:20.96135Z"
        },
        "trusted": true,
        "id": "bv9t-gKiXrXa",
        "outputId": "893e3844-8d10-4afc-c086-0cce73b7671f"
      },
      "execution_count": null,
      "outputs": [
        {
          "execution_count": 495,
          "output_type": "execute_result",
          "data": {
            "text/plain": "Message\nSorry, I'll call later                                                                                                                                                 30\nI cant pick the phone right now. Pls send a message                                                                                                                    12\nOk...                                                                                                                                                                  10\nOk.                                                                                                                                                                     4\nPlease call our customer service representative on FREEPHONE 0808 145 4742 between 9am-11pm as you have WON a guaranteed £1000 cash or £5000 prize!                     4\n                                                                                                                                                                       ..\nI think asking for a gym is the excuse for lazy people. I jog.                                                                                                          1\nI love your ass! Do you enjoy doggy style? :)                                                                                                                           1\nCome to me, slave. Your doing it again ... Going into your shell and unconsciously avoiding me ... You are making me unhappy :-(                                        1\nOk.. Ü finishing soon?                                                                                                                                                  1\nCALL 09090900040 & LISTEN TO EXTREME DIRTY LIVE CHAT GOING ON IN THE OFFICE RIGHT NOW TOTAL PRIVACY NO ONE KNOWS YOUR [sic] LISTENING 60P MIN 24/7MP 0870753331018+     1\nName: count, Length: 5157, dtype: int64"
          },
          "metadata": {}
        }
      ]
    },
    {
      "cell_type": "code",
      "source": [
        "emails_spam=emails[emails['Category']=='spam']\n",
        "emails_spam.shape"
      ],
      "metadata": {
        "execution": {
          "iopub.status.busy": "2024-06-20T20:52:21.174987Z",
          "iopub.execute_input": "2024-06-20T20:52:21.175235Z",
          "iopub.status.idle": "2024-06-20T20:52:21.183176Z",
          "shell.execute_reply.started": "2024-06-20T20:52:21.175213Z",
          "shell.execute_reply": "2024-06-20T20:52:21.182258Z"
        },
        "trusted": true,
        "id": "NDGL-6ZKXrXd",
        "outputId": "51da797b-4cc8-4f7e-8064-e5631a31b8ad"
      },
      "execution_count": null,
      "outputs": [
        {
          "execution_count": 496,
          "output_type": "execute_result",
          "data": {
            "text/plain": "(747, 2)"
          },
          "metadata": {}
        }
      ]
    },
    {
      "cell_type": "code",
      "source": [
        "emails_ham=emails[emails['Category']=='ham']\n",
        "emails_ham.shape"
      ],
      "metadata": {
        "execution": {
          "iopub.status.busy": "2024-06-20T20:52:21.420174Z",
          "iopub.execute_input": "2024-06-20T20:52:21.420743Z",
          "iopub.status.idle": "2024-06-20T20:52:21.42853Z",
          "shell.execute_reply.started": "2024-06-20T20:52:21.420716Z",
          "shell.execute_reply": "2024-06-20T20:52:21.427695Z"
        },
        "trusted": true,
        "id": "5wsdpNoGXrXh",
        "outputId": "126d951f-9b7a-4e42-e6f1-e69be6fa315b"
      },
      "execution_count": null,
      "outputs": [
        {
          "execution_count": 497,
          "output_type": "execute_result",
          "data": {
            "text/plain": "(4825, 2)"
          },
          "metadata": {}
        }
      ]
    },
    {
      "cell_type": "code",
      "source": [
        "df_ham_downsampled=emails_ham.sample(emails_spam.shape[0])\n",
        "df_ham_downsampled.shape"
      ],
      "metadata": {
        "execution": {
          "iopub.status.busy": "2024-06-20T20:52:21.860101Z",
          "iopub.execute_input": "2024-06-20T20:52:21.860871Z",
          "iopub.status.idle": "2024-06-20T20:52:21.867416Z",
          "shell.execute_reply.started": "2024-06-20T20:52:21.860823Z",
          "shell.execute_reply": "2024-06-20T20:52:21.86662Z"
        },
        "trusted": true,
        "id": "k24r6UqSXrXk",
        "outputId": "825e51c7-4e0b-4202-c02e-1c3e2b963a6f"
      },
      "execution_count": null,
      "outputs": [
        {
          "execution_count": 498,
          "output_type": "execute_result",
          "data": {
            "text/plain": "(747, 2)"
          },
          "metadata": {}
        }
      ]
    },
    {
      "cell_type": "code",
      "source": [
        "df_balanced=pd.concat([df_ham_downsampled, emails_spam])"
      ],
      "metadata": {
        "execution": {
          "iopub.status.busy": "2024-06-20T20:52:22.575595Z",
          "iopub.execute_input": "2024-06-20T20:52:22.576063Z",
          "iopub.status.idle": "2024-06-20T20:52:22.58094Z",
          "shell.execute_reply.started": "2024-06-20T20:52:22.576032Z",
          "shell.execute_reply": "2024-06-20T20:52:22.580124Z"
        },
        "trusted": true,
        "id": "XlR1eDBpXrXn"
      },
      "execution_count": null,
      "outputs": []
    },
    {
      "cell_type": "code",
      "source": [
        "df_balanced.shape"
      ],
      "metadata": {
        "execution": {
          "iopub.status.busy": "2024-06-20T20:52:22.800187Z",
          "iopub.execute_input": "2024-06-20T20:52:22.800481Z",
          "iopub.status.idle": "2024-06-20T20:52:22.806117Z",
          "shell.execute_reply.started": "2024-06-20T20:52:22.800454Z",
          "shell.execute_reply": "2024-06-20T20:52:22.805241Z"
        },
        "trusted": true,
        "id": "x3roWPsyXrXp",
        "outputId": "812186ac-0d0c-4adb-c497-6ca713189150"
      },
      "execution_count": null,
      "outputs": [
        {
          "execution_count": 500,
          "output_type": "execute_result",
          "data": {
            "text/plain": "(1494, 2)"
          },
          "metadata": {}
        }
      ]
    },
    {
      "cell_type": "code",
      "source": [
        "df_balanced['Category'].value_counts()"
      ],
      "metadata": {
        "execution": {
          "iopub.status.busy": "2024-06-20T20:52:23.015118Z",
          "iopub.execute_input": "2024-06-20T20:52:23.015385Z",
          "iopub.status.idle": "2024-06-20T20:52:23.025432Z",
          "shell.execute_reply.started": "2024-06-20T20:52:23.015361Z",
          "shell.execute_reply": "2024-06-20T20:52:23.024386Z"
        },
        "trusted": true,
        "id": "NLoXAyn4XrXs",
        "outputId": "7060bb82-3f47-405d-bd57-6c43ba8d2c96"
      },
      "execution_count": null,
      "outputs": [
        {
          "execution_count": 501,
          "output_type": "execute_result",
          "data": {
            "text/plain": "Category\nham     747\nspam    747\nName: count, dtype: int64"
          },
          "metadata": {}
        }
      ]
    },
    {
      "cell_type": "code",
      "source": [
        "#Data balancing\n",
        "747/747"
      ],
      "metadata": {
        "execution": {
          "iopub.status.busy": "2024-06-20T20:52:23.290167Z",
          "iopub.execute_input": "2024-06-20T20:52:23.290967Z",
          "iopub.status.idle": "2024-06-20T20:52:23.296231Z",
          "shell.execute_reply.started": "2024-06-20T20:52:23.290937Z",
          "shell.execute_reply": "2024-06-20T20:52:23.295296Z"
        },
        "trusted": true,
        "id": "UwB5Ebg7XrXv",
        "outputId": "2f91c3c4-dfa1-41b8-bb15-2b64c117bd90"
      },
      "execution_count": null,
      "outputs": [
        {
          "execution_count": 502,
          "output_type": "execute_result",
          "data": {
            "text/plain": "1.0"
          },
          "metadata": {}
        }
      ]
    },
    {
      "cell_type": "code",
      "source": [],
      "metadata": {
        "id": "7Mxp33aVXrXz"
      },
      "execution_count": null,
      "outputs": []
    },
    {
      "cell_type": "code",
      "source": [
        "#splitting data\n",
        "\n",
        "from sklearn.model_selection import train_test_split\n",
        "x_train,x_test,y_train,y_test= train_test_split(df_balanced['Message'],df_balanced['Category'])"
      ],
      "metadata": {
        "execution": {
          "iopub.status.busy": "2024-06-20T20:52:23.625105Z",
          "iopub.execute_input": "2024-06-20T20:52:23.625401Z",
          "iopub.status.idle": "2024-06-20T20:52:23.631704Z",
          "shell.execute_reply.started": "2024-06-20T20:52:23.625369Z",
          "shell.execute_reply": "2024-06-20T20:52:23.6308Z"
        },
        "trusted": true,
        "id": "PYtp_H_yXrX1"
      },
      "execution_count": null,
      "outputs": []
    },
    {
      "cell_type": "code",
      "source": [
        "x_train.head()"
      ],
      "metadata": {
        "execution": {
          "iopub.status.busy": "2024-06-20T20:52:23.865167Z",
          "iopub.execute_input": "2024-06-20T20:52:23.865477Z",
          "iopub.status.idle": "2024-06-20T20:52:23.872218Z",
          "shell.execute_reply.started": "2024-06-20T20:52:23.86545Z",
          "shell.execute_reply": "2024-06-20T20:52:23.871258Z"
        },
        "trusted": true,
        "id": "bVN3BcQaXrX3",
        "outputId": "eb175c5e-64cf-42b4-fe4a-a9159edadb9f"
      },
      "execution_count": null,
      "outputs": [
        {
          "execution_count": 504,
          "output_type": "execute_result",
          "data": {
            "text/plain": "2809    Yes princess! I want to catch you with my big ...\n1343               Yeah I'll try to scrounge something up\n1848    FREE NOKIA Or Motorola with upto 12mths 1/2pri...\n1921                        Dont know you bring some food\n2367    Tone Club: Your subs has now expired 2 re-sub ...\nName: Message, dtype: object"
          },
          "metadata": {}
        }
      ]
    },
    {
      "cell_type": "code",
      "source": [
        "x_test.head()"
      ],
      "metadata": {
        "execution": {
          "iopub.status.busy": "2024-06-20T20:52:24.065162Z",
          "iopub.execute_input": "2024-06-20T20:52:24.065442Z",
          "iopub.status.idle": "2024-06-20T20:52:24.072184Z",
          "shell.execute_reply.started": "2024-06-20T20:52:24.065418Z",
          "shell.execute_reply": "2024-06-20T20:52:24.071199Z"
        },
        "trusted": true,
        "id": "b2BAUG46XrX6",
        "outputId": "28a5b9f4-384f-40f2-c87e-a310e6a8c406"
      },
      "execution_count": null,
      "outputs": [
        {
          "execution_count": 505,
          "output_type": "execute_result",
          "data": {
            "text/plain": "5365    Camera - You are awarded a SiPix Digital Camer...\n3668    Honey ? Sweetheart ? Darling ? Sexy buns ? Sug...\n4758    hey, looks like I was wrong and one of the kap...\n4333                  ALSO TELL HIM I SAID HAPPY BIRTHDAY\n2673                          Super msg da:)nalla timing.\nName: Message, dtype: object"
          },
          "metadata": {}
        }
      ]
    },
    {
      "cell_type": "code",
      "source": [
        "y_train.head()"
      ],
      "metadata": {
        "execution": {
          "iopub.status.busy": "2024-06-20T20:52:24.265131Z",
          "iopub.execute_input": "2024-06-20T20:52:24.265382Z",
          "iopub.status.idle": "2024-06-20T20:52:24.271753Z",
          "shell.execute_reply.started": "2024-06-20T20:52:24.26536Z",
          "shell.execute_reply": "2024-06-20T20:52:24.270902Z"
        },
        "trusted": true,
        "id": "8oeaK88GXrX-",
        "outputId": "8fd6c328-3fb5-4343-f9e9-dcf556857e83"
      },
      "execution_count": null,
      "outputs": [
        {
          "execution_count": 506,
          "output_type": "execute_result",
          "data": {
            "text/plain": "2809     ham\n1343     ham\n1848    spam\n1921     ham\n2367    spam\nName: Category, dtype: object"
          },
          "metadata": {}
        }
      ]
    },
    {
      "cell_type": "code",
      "source": [
        "y_test.head()"
      ],
      "metadata": {
        "execution": {
          "iopub.status.busy": "2024-06-20T20:52:24.485231Z",
          "iopub.execute_input": "2024-06-20T20:52:24.485509Z",
          "iopub.status.idle": "2024-06-20T20:52:24.491954Z",
          "shell.execute_reply.started": "2024-06-20T20:52:24.485484Z",
          "shell.execute_reply": "2024-06-20T20:52:24.491022Z"
        },
        "trusted": true,
        "id": "4Txp1LmoXrYB",
        "outputId": "8fc0c04f-07e8-41dd-bedd-78e86a1ce57d"
      },
      "execution_count": null,
      "outputs": [
        {
          "execution_count": 507,
          "output_type": "execute_result",
          "data": {
            "text/plain": "5365    spam\n3668     ham\n4758     ham\n4333     ham\n2673     ham\nName: Category, dtype: object"
          },
          "metadata": {}
        }
      ]
    },
    {
      "cell_type": "markdown",
      "source": [
        "                 BERT MODEL"
      ],
      "metadata": {
        "id": "vytNWLR3beQT"
      }
    },
    {
      "cell_type": "code",
      "source": [
        "from transformers import pipeline\n",
        "tokenizer=pipeline('fill-mask',model='bert-base-uncased')\n",
        "tokenizer(\"This is the  basic bert model for [MASK] project\")"
      ],
      "metadata": {
        "execution": {
          "iopub.status.busy": "2024-06-20T20:52:24.820274Z",
          "iopub.execute_input": "2024-06-20T20:52:24.820553Z",
          "iopub.status.idle": "2024-06-20T20:52:25.580577Z",
          "shell.execute_reply.started": "2024-06-20T20:52:24.820529Z",
          "shell.execute_reply": "2024-06-20T20:52:25.579759Z"
        },
        "trusted": true,
        "id": "BW8uGLQ7XrYE",
        "outputId": "1f96bdd8-a6a4-48da-a260-af8eeb8096a9"
      },
      "execution_count": null,
      "outputs": [
        {
          "name": "stderr",
          "text": "Some weights of the model checkpoint at bert-base-uncased were not used when initializing BertForMaskedLM: ['bert.pooler.dense.bias', 'bert.pooler.dense.weight', 'cls.seq_relationship.bias', 'cls.seq_relationship.weight']\n- This IS expected if you are initializing BertForMaskedLM from the checkpoint of a model trained on another task or with another architecture (e.g. initializing a BertForSequenceClassification model from a BertForPreTraining model).\n- This IS NOT expected if you are initializing BertForMaskedLM from the checkpoint of a model that you expect to be exactly identical (initializing a BertForSequenceClassification model from a BertForSequenceClassification model).\n",
          "output_type": "stream"
        },
        {
          "execution_count": 508,
          "output_type": "execute_result",
          "data": {
            "text/plain": "[{'score': 0.7205239534378052,\n  'token': 1996,\n  'token_str': 'the',\n  'sequence': 'this is the basic bert model for the project'},\n {'score': 0.1782054901123047,\n  'token': 2023,\n  'token_str': 'this',\n  'sequence': 'this is the basic bert model for this project'},\n {'score': 0.020440150052309036,\n  'token': 1037,\n  'token_str': 'a',\n  'sequence': 'this is the basic bert model for a project'},\n {'score': 0.014921674504876137,\n  'token': 2008,\n  'token_str': 'that',\n  'sequence': 'this is the basic bert model for that project'},\n {'score': 0.007959447801113129,\n  'token': 2169,\n  'token_str': 'each',\n  'sequence': 'this is the basic bert model for each project'}]"
          },
          "metadata": {}
        }
      ]
    },
    {
      "cell_type": "code",
      "source": [
        "#creating embeddings of some spam emails\n",
        "\n",
        "tokenizer(\"I can't pick up your call [MASK] .Please leave me a message\")\n"
      ],
      "metadata": {
        "execution": {
          "iopub.status.busy": "2024-06-20T20:52:25.582179Z",
          "iopub.execute_input": "2024-06-20T20:52:25.582476Z",
          "iopub.status.idle": "2024-06-20T20:52:25.65687Z",
          "shell.execute_reply.started": "2024-06-20T20:52:25.582451Z",
          "shell.execute_reply": "2024-06-20T20:52:25.655981Z"
        },
        "trusted": true,
        "id": "QuClW_xYXrYH",
        "outputId": "91e01547-67c9-42db-e8e2-aeb224ce14ee"
      },
      "execution_count": null,
      "outputs": [
        {
          "execution_count": 509,
          "output_type": "execute_result",
          "data": {
            "text/plain": "[{'score': 0.1702427715063095,\n  'token': 2664,\n  'token_str': 'yet',\n  'sequence': \"i can't pick up your call yet. please leave me a message\"},\n {'score': 0.1664031744003296,\n  'token': 2593,\n  'token_str': 'either',\n  'sequence': \"i can't pick up your call either. please leave me a message\"},\n {'score': 0.09784595668315887,\n  'token': 2153,\n  'token_str': 'again',\n  'sequence': \"i can't pick up your call again. please leave me a message\"},\n {'score': 0.058159925043582916,\n  'token': 2651,\n  'token_str': 'today',\n  'sequence': \"i can't pick up your call today. please leave me a message\"},\n {'score': 0.05767722427845001,\n  'token': 4902,\n  'token_str': 'anymore',\n  'sequence': \"i can't pick up your call anymore. please leave me a message\"}]"
          },
          "metadata": {}
        }
      ]
    },
    {
      "cell_type": "code",
      "source": [
        "\n",
        "e=tokenizer(\"banana[MASK]\",\n",
        "            \"mango\",\n",
        "            \"bill gates\",\n",
        "            \"mark zuckerberg\",\n",
        "            \"jeff bezoz\")\n",
        "print(e)"
      ],
      "metadata": {
        "execution": {
          "iopub.status.busy": "2024-06-20T20:52:25.657993Z",
          "iopub.execute_input": "2024-06-20T20:52:25.658259Z"
        },
        "trusted": true,
        "id": "Gx5qh93GXrYK"
      },
      "execution_count": null,
      "outputs": []
    },
    {
      "cell_type": "markdown",
      "source": [],
      "metadata": {
        "id": "ygGSvHrbXrYN"
      }
    },
    {
      "cell_type": "code",
      "source": [
        "# Now getting tokens of the emails"
      ],
      "metadata": {
        "trusted": true,
        "id": "_n-5xJBGXrYQ"
      },
      "execution_count": null,
      "outputs": []
    },
    {
      "cell_type": "markdown",
      "source": [
        "                  BART MODEL"
      ],
      "metadata": {
        "id": "0Rs0JAX0bPae"
      }
    },
    {
      "cell_type": "code",
      "source": [
        "#function to get the Bart Model\n",
        "\n",
        "\n",
        "\n",
        "from transformers import pipeline\n",
        "\n",
        "def classify_text(email):\n",
        "    \"\"\"\n",
        "    Use the Facebook's Bart model to check if the email is spam or not\n",
        "\n",
        "    Args:\n",
        "        email(str): The email to classify\n",
        "    Results:\n",
        "        str: The classification of the email\n",
        "\n",
        "\n",
        "    \"\"\"\n",
        "\n",
        "    classifier=pipeline(\n",
        "    'zero-shot-classification',model='facebook/bart-large-mnli')\n",
        "\n",
        "\n",
        "    labels=['spam'],['not spam']\n",
        "    hypothesis='This is a spam mail{}.'\n",
        "\n",
        "    results=classifier(\n",
        "        email,labels,hypothesis)\n",
        "    return results['labels'][0]"
      ],
      "metadata": {
        "trusted": true,
        "id": "tYv507nxXrYT"
      },
      "execution_count": 5,
      "outputs": []
    },
    {
      "cell_type": "code",
      "source": [
        "classify_text('This is a slam email from a black hat hacker')"
      ],
      "metadata": {
        "trusted": true,
        "id": "sSysv_lVXrYW"
      },
      "execution_count": null,
      "outputs": []
    },
    {
      "cell_type": "code",
      "source": [
        "#We can check our emails by simply using the classify_text variable and giving input of the emails we have\n",
        "\n",
        "#This code is contributed by Dev Kumar"
      ],
      "metadata": {
        "id": "S-VeAX3Iam0x"
      },
      "execution_count": 4,
      "outputs": []
    }
  ]
}